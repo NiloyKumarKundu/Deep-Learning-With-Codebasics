{
 "cells": [
  {
   "cell_type": "code",
   "execution_count": 1,
   "id": "60e777be",
   "metadata": {},
   "outputs": [],
   "source": [
    "import numpy as np"
   ]
  },
  {
   "cell_type": "code",
   "execution_count": 2,
   "id": "90062ecf",
   "metadata": {},
   "outputs": [],
   "source": [
    "y_predicted = np.array([1, 1, 0, 0, 1])\n",
    "y_true = np.array([0.30, 0.7, 1, 0, 0.5])"
   ]
  },
  {
   "cell_type": "code",
   "execution_count": 19,
   "id": "d82abe98",
   "metadata": {},
   "outputs": [],
   "source": [
    "def mean_squared_error(y_true, y_predicted):\n",
    "    total_error = 0\n",
    "    for yt, yp in zip(y_true, y_predicted):\n",
    "        total_error += (yt - yp) ** 2\n",
    "    print(\"total error: \", total_error)\n",
    "    mse = total_error / len(y_true)\n",
    "    print(\"MSE: \", mse)\n",
    "    return mse"
   ]
  },
  {
   "cell_type": "code",
   "execution_count": 20,
   "id": "b7785748",
   "metadata": {},
   "outputs": [
    {
     "name": "stdout",
     "output_type": "stream",
     "text": [
      "total error:  1.83\n",
      "MSE:  0.366\n"
     ]
    },
    {
     "data": {
      "text/plain": [
       "0.366"
      ]
     },
     "execution_count": 20,
     "metadata": {},
     "output_type": "execute_result"
    }
   ],
   "source": [
    "mean_squared_error(y_true, y_predicted)"
   ]
  },
  {
   "cell_type": "code",
   "execution_count": 21,
   "id": "350717e6",
   "metadata": {},
   "outputs": [
    {
     "data": {
      "text/plain": [
       "array([0.49, 0.09, 1.  , 0.  , 0.25])"
      ]
     },
     "execution_count": 21,
     "metadata": {},
     "output_type": "execute_result"
    }
   ],
   "source": [
    "np.square(y_predicted - y_true)"
   ]
  },
  {
   "cell_type": "code",
   "execution_count": 22,
   "id": "892ff795",
   "metadata": {},
   "outputs": [
    {
     "data": {
      "text/plain": [
       "0.366"
      ]
     },
     "execution_count": 22,
     "metadata": {},
     "output_type": "execute_result"
    }
   ],
   "source": [
    "np.mean(np.square(y_predicted - y_true))"
   ]
  },
  {
   "cell_type": "code",
   "execution_count": 23,
   "id": "4744504c",
   "metadata": {},
   "outputs": [
    {
     "data": {
      "text/plain": [
       "1.83"
      ]
     },
     "execution_count": 23,
     "metadata": {},
     "output_type": "execute_result"
    }
   ],
   "source": [
    "np.sum(np.square(y_predicted - y_true))"
   ]
  },
  {
   "cell_type": "code",
   "execution_count": null,
   "id": "2decfe70",
   "metadata": {},
   "outputs": [],
   "source": []
  }
 ],
 "metadata": {
  "kernelspec": {
   "display_name": "Python 3 (ipykernel)",
   "language": "python",
   "name": "python3"
  },
  "language_info": {
   "codemirror_mode": {
    "name": "ipython",
    "version": 3
   },
   "file_extension": ".py",
   "mimetype": "text/x-python",
   "name": "python",
   "nbconvert_exporter": "python",
   "pygments_lexer": "ipython3",
   "version": "3.10.6"
  }
 },
 "nbformat": 4,
 "nbformat_minor": 5
}
